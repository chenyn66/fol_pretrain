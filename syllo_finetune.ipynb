{
 "cells": [
  {
   "cell_type": "code",
   "execution_count": 4,
   "metadata": {},
   "outputs": [],
   "source": [
    "from transformers import RobertaTokenizer, RobertaModel\n",
    "import torch\n",
    "import sys\n",
    "sys.path.append('./src')\n",
    "import syllo_gen\n",
    "import random\n",
    "import json\n",
    "from tqdm.autonotebook import tqdm\n",
    "import data\n",
    "import syllo_finetune\n",
    "\n",
    "%load_ext autoreload\n",
    "%autoreload 2\n",
    "\n"
   ]
  },
  {
   "cell_type": "code",
   "execution_count": null,
   "metadata": {},
   "outputs": [],
   "source": [
    "syllo_finetune.test_composition()"
   ]
  },
  {
   "cell_type": "code",
   "execution_count": 7,
   "metadata": {},
   "outputs": [
    {
     "data": {
      "text/plain": [
       "{'story': ['All people who regularly drink coffee are dependent on caffeine.',\n",
       "  'People either regularly drink coffee or joke about being addicted to caffeine.',\n",
       "  'No one who jokes about being addicted to caffeine is unaware that caffeine is a drug.',\n",
       "  'Rina is either a student and unaware that caffeine is a drug, or neither a student nor unaware that caffeine is a drug.',\n",
       "  'If Rina is not a person dependent on caffeine and a student, then Rina is either a person dependent on caffeine and a student, or neither a person dependent on caffeine nor a student. '],\n",
       " 'conclusion': 'Rina is either a person who regularly drinks coffee or a person who is unaware that caffeine is a drug.',\n",
       " 'label': 0}"
      ]
     },
     "execution_count": 7,
     "metadata": {},
     "output_type": "execute_result"
    }
   ],
   "source": [
    "folio = data.FOLIO()\n",
    "folio[2]"
   ]
  }
 ],
 "metadata": {
  "kernelspec": {
   "display_name": "Python 3.10.4 ('wfsa')",
   "language": "python",
   "name": "python3"
  },
  "language_info": {
   "codemirror_mode": {
    "name": "ipython",
    "version": 3
   },
   "file_extension": ".py",
   "mimetype": "text/x-python",
   "name": "python",
   "nbconvert_exporter": "python",
   "pygments_lexer": "ipython3",
   "version": "3.10.4"
  },
  "orig_nbformat": 4,
  "vscode": {
   "interpreter": {
    "hash": "b346918d0b7bb6a3d33c853c0503828ab6aa9b445b216f9b49c79d37806d3d3f"
   }
  }
 },
 "nbformat": 4,
 "nbformat_minor": 2
}
