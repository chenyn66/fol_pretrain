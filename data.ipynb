{
 "cells": [
  {
   "cell_type": "code",
   "execution_count": 1,
   "metadata": {},
   "outputs": [],
   "source": [
    "import numpy as np\n",
    "import json"
   ]
  },
  {
   "cell_type": "markdown",
   "metadata": {},
   "source": [
    "# ConceptNet"
   ]
  },
  {
   "cell_type": "code",
   "execution_count": 9,
   "metadata": {},
   "outputs": [],
   "source": [
    "filter_symbols = {'?', ':', '+', '-', '*', '/', '='}"
   ]
  },
  {
   "cell_type": "code",
   "execution_count": 12,
   "metadata": {},
   "outputs": [],
   "source": [
    "with open('omcs-sentences-free.txt', 'r', encoding='utf8') as f, open('omcs_en.txt', 'w', encoding='utf8') as f2:\n",
    "    f.readline()\n",
    "    for line in f:\n",
    "        line = line.strip().split('\\t')\n",
    "        if len(line) != 7:\n",
    "            continue\n",
    "        lang = line[4]\n",
    "        if lang == 'en' and all(i not in line[1] for i in filter_symbols) and len(line[1].split(' ')) > 2: #maybe set a max length?\n",
    "            f2.write(line[1] + '\\n')\n"
   ]
  },
  {
   "cell_type": "markdown",
   "metadata": {},
   "source": [
    "# Filter"
   ]
  },
  {
   "cell_type": "code",
   "execution_count": 3,
   "metadata": {},
   "outputs": [],
   "source": [
    "def checker(sentence):\n",
    "    if '?' in sentence:\n",
    "        return False\n",
    "    if ' if ' in sentence or ' if.' in sentence or ' if,' in sentence:\n",
    "        return False\n",
    "    if ' so ' in sentence or ' so.' in sentence or ' so,' in sentence:\n",
    "        return False\n",
    "    return True"
   ]
  },
  {
   "cell_type": "markdown",
   "metadata": {},
   "source": [
    "# CommonSenseQA"
   ]
  },
  {
   "cell_type": "code",
   "execution_count": 50,
   "metadata": {},
   "outputs": [],
   "source": [
    "all_line = []\n",
    "all_line.extend(open('dataset/teach_your_ai_train.json', 'r', encoding='utf8').readlines())\n",
    "all_line.extend(open('dataset/teach_your_ai_dev.json', 'r', encoding='utf8').readlines())\n",
    "all_line.extend(open('dataset/teach_your_ai_text_no_answers.json', 'r', encoding='utf8').readlines())\n",
    "\n",
    "\n",
    "with open('dataset/csaq_text.txt', 'w', encoding='utf8') as f2:\n",
    "    for line in all_line:\n",
    "        line = json.loads(line)\n",
    "        q = line['question']\n",
    "        r = line['relational_prompt']\n",
    "        if 'if' in r:\n",
    "            continue\n",
    "        if not checker(q):\n",
    "            continue\n",
    "        f2.write(q + '\\n')\n"
   ]
  },
  {
   "cell_type": "code",
   "execution_count": 18,
   "metadata": {},
   "outputs": [
    {
     "data": {
      "text/plain": [
       "280"
      ]
     },
     "execution_count": 18,
     "metadata": {},
     "output_type": "execute_result"
    }
   ],
   "source": [
    "# count = 0\n",
    "# with open('dataset/CSQA_quantifier.txt', 'w', encoding='utf8') as f2:\n",
    "#     for line in open('dataset/CSQA_text.txt', 'r', encoding='utf8'):\n",
    "#         if ' some ' in line or ' all ' in line:\n",
    "#             f2.write(line)\n",
    "#             count += 1\n",
    "# count"
   ]
  },
  {
   "cell_type": "markdown",
   "metadata": {},
   "source": [
    "# ComVe"
   ]
  },
  {
   "cell_type": "code",
   "execution_count": 51,
   "metadata": {},
   "outputs": [],
   "source": [
    "import csv\n",
    "all_line = []\n",
    "all_line.extend(list(csv.reader(open('dataset/comve/train.csv', 'r', encoding='utf8')))[1:])\n",
    "all_line.extend(list(csv.reader(open('dataset/comve/dev.csv', 'r', encoding='utf8')))[1:])\n",
    "all_line.extend(list(csv.reader(open('dataset/comve/test.csv', 'r', encoding='utf8')))[1:])\n",
    "\n",
    "written = set()\n",
    "with open('dataset/comve_text.txt', 'w', encoding='utf8') as f2:\n",
    "    for line in all_line:\n",
    "        for sentence in line:\n",
    "            if checker(sentence) and sentence not in written:\n",
    "                f2.write(sentence + '\\n')\n",
    "                written.add(sentence)"
   ]
  },
  {
   "cell_type": "markdown",
   "metadata": {},
   "source": [
    "# AlphaNLI"
   ]
  },
  {
   "cell_type": "code",
   "execution_count": 56,
   "metadata": {},
   "outputs": [],
   "source": [
    "all_line = []\n",
    "all_line.extend(open('dataset/alphanli-train-dev/train.jsonl', 'r', encoding='utf8').readlines())\n",
    "all_line.extend(open('dataset/alphanli-train-dev/dev.jsonl', 'r', encoding='utf8').readlines())\n",
    "\n",
    "written = set()\n",
    "with open('dataset/anli_text.txt', 'w', encoding='utf8') as f2:\n",
    "    for line in all_line:\n",
    "        line = json.loads(line)\n",
    "        for k,v in line.items():\n",
    "            if k == 'story_id':\n",
    "                continue\n",
    "            if not checker(v):\n",
    "                continue\n",
    "            if v not in written:\n",
    "                f2.write(v + '\\n')\n",
    "                written.add(v)\n"
   ]
  },
  {
   "cell_type": "markdown",
   "metadata": {},
   "source": [
    "# FEVER"
   ]
  },
  {
   "cell_type": "code",
   "execution_count": 4,
   "metadata": {},
   "outputs": [],
   "source": [
    "all_line = []\n",
    "all_line.extend(open('dataset/fever/train.jsonl', 'r', encoding='utf8').readlines())\n",
    "all_line.extend(open('dataset/fever/dev.jsonl', 'r', encoding='utf8').readlines())\n",
    "all_line.extend(open('dataset/fever/test.jsonl', 'r', encoding='utf8').readlines())\n",
    "\n",
    "written = set()\n",
    "with open('dataset/fever_text.txt', 'w', encoding='utf8') as f2:\n",
    "    for line in all_line:\n",
    "        line = json.loads(line)\n",
    "        v = line['claim']\n",
    "        if not checker(v):\n",
    "            continue\n",
    "        if v not in written:\n",
    "            f2.write(v + '\\n')\n",
    "            written.add(v)\n"
   ]
  },
  {
   "cell_type": "code",
   "execution_count": null,
   "metadata": {},
   "outputs": [],
   "source": []
  }
 ],
 "metadata": {
  "kernelspec": {
   "display_name": "Python 3.9.6 64-bit",
   "language": "python",
   "name": "python3"
  },
  "language_info": {
   "codemirror_mode": {
    "name": "ipython",
    "version": 3
   },
   "file_extension": ".py",
   "mimetype": "text/x-python",
   "name": "python",
   "nbconvert_exporter": "python",
   "pygments_lexer": "ipython3",
   "version": "3.9.6"
  },
  "orig_nbformat": 4,
  "vscode": {
   "interpreter": {
    "hash": "31f2aee4e71d21fbe5cf8b01ff0e069b9275f58929596ceb00d14d90e3e16cd6"
   }
  }
 },
 "nbformat": 4,
 "nbformat_minor": 2
}
