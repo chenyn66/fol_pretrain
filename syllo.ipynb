{
 "cells": [
  {
   "cell_type": "code",
   "execution_count": 53,
   "metadata": {},
   "outputs": [
    {
     "name": "stdout",
     "output_type": "stream",
     "text": [
      "The autoreload extension is already loaded. To reload it, use:\n",
      "  %reload_ext autoreload\n"
     ]
    }
   ],
   "source": [
    "import sys\n",
    "sys.path.append('./src')\n",
    "import syllo_gen\n",
    "import random\n",
    "\n",
    "%load_ext autoreload\n",
    "%autoreload 2"
   ]
  },
  {
   "cell_type": "code",
   "execution_count": 76,
   "metadata": {},
   "outputs": [
    {
     "name": "stdout",
     "output_type": "stream",
     "text": [
      "Story: ∀x ([R2](x) → [R1](x)), ∀x ([R0](x) → ¬[R1](x)) Question: ∀x ([R0](x) → [R2](x))\n",
      "Answer: False\n",
      "\n",
      "Story: ∀x ([R1](x) → [R2](x)), ∃x ([R0](x) ∧ [R1](x)) Question: ∀x ([R0](x) → ¬[R2](x))\n",
      "Answer: False\n",
      "\n",
      "Story: ∃x ([R1](x) ∧ [R2](x)), ∀x ([R1](x) → [R0](x)) Question: ∃x ([R0](x) ∧ [R2](x))\n",
      "Answer: True\n",
      "\n",
      "Story: ∃x ([R1](x) ∧ ¬[R2](x)), ∀x ([R1](x) → [R0](x)) Question: ∀x ([R0](x) → [R2](x))\n",
      "Answer: False\n",
      "\n",
      "Story: ∀x ([R1](x) → [R2](x)), ∀x ([R0](x) → [R1](x)) Question: ∀x ([R0](x) → [R2](x))\n",
      "Answer: True\n",
      "\n",
      "Story: ∀x ([R2](x) → [R1](x)), ∀x ([R1](x) → [R0](x)) Question: ∃x ([R0](x) ∧ [R2](x))\n",
      "Answer: True\n",
      "\n",
      "Story: ∀x ([R1](x) → [R2](x)), ∃x ([R0](x) ∧ [R1](x)), ∀x ([R3](x) → ¬[R2](x)) Question: ∃x ([R0](x) ∧ ¬[R3](x))\n",
      "Answer: True\n",
      "\n",
      "Story: ∀x ([R1](x) → [R2](x)), ∀x ([R0](x) → [R1](x)), ∀x ([R0](x) → [R3](x)) Question: ∀x ([R3](x) → ¬[R2](x))\n",
      "Answer: False\n",
      "\n",
      "Story: ∀x ([R2](x) → ¬[R1](x)), ∃x ([R0](x) ∧ [R1](x)), ∀x ([R3](x) → [R2](x)) Question: ∃x ([R0](x) ∧ ¬[R3](x))\n",
      "Answer: True\n",
      "\n",
      "Story: ∀x ([R1](x) → [R2](x)), ∃x ([R0](x) ∧ [R1](x)), ∀x ([R2](x) → [R3](x)) Question: ∃x ([R0](x) ∧ [R3](x))\n",
      "Answer: True\n",
      "\n",
      "Story: ∃x ([R2](x) ∧ [R1](x)), ∀x ([R1](x) → [R0](x)), ∀x ([R0](x) → ¬[R3](x)) Question: ∀x ([R2](x) → [R3](x))\n",
      "Answer: False\n",
      "\n",
      "Story: ∃x ([R1](x) ∧ [R2](x)), ∀x ([R1](x) → [R0](x)), ∀x ([R2](x) → [R3](x)) Question: ∃x ([R0](x) ∧ [R3](x))\n",
      "Answer: True\n",
      "\n",
      "Story: ∀x ([R2](x) → ¬[R1](x)), ∀x ([R1](x) → [R0](x)), ∀x ([R0](x) → [R3](x)), ∀x ([R4](x) → [R2](x)) Question: ∀x ([R3](x) → [R4](x))\n",
      "Answer:\n",
      "\n",
      "False\n"
     ]
    }
   ],
   "source": [
    "all_possilbe = set()\n",
    "for i in range(2):\n",
    "    for j in range(6):\n",
    "        real = random.choice([True, False])\n",
    "        syllo, _ = syllo_gen.get_syllo(i+1, real)\n",
    "        if syllo not in all_possilbe:\n",
    "            all_possilbe.add(syllo)\n",
    "            print(f'Story: {\", \".join(syllo[:-1])} Question: {syllo[-1]}')\n",
    "            print(f'Answer: {real}')\n",
    "            print()\n",
    "\n",
    "real = random.choice([True, False])\n",
    "syllo, _ = syllo_gen.get_syllo(3, real)\n",
    "print(f'Story: {\", \".join(syllo[:-1])} Question: {syllo[-1]}')\n",
    "print(f'Answer:')\n",
    "print()\n",
    "print(real)"
   ]
  },
  {
   "cell_type": "code",
   "execution_count": 84,
   "metadata": {},
   "outputs": [
    {
     "name": "stdout",
     "output_type": "stream",
     "text": [
      "Story: ∀x ([R1](x) → [R2](x)), ∀x ([R0](x) → [R1](x)) Question: ∀x ([R0](x) → [R2](x))\n",
      "Output:\n",
      "\n",
      "True\n"
     ]
    }
   ],
   "source": [
    "real = random.choice([True, False])\n",
    "syllo, _ = syllo_gen.get_syllo(1, real)\n",
    "print(f'Story: {\", \".join(syllo[:-1])} Question: {syllo[-1]}')\n",
    "print(f'Output:')\n",
    "print()\n",
    "print(real)"
   ]
  },
  {
   "cell_type": "code",
   "execution_count": 50,
   "metadata": {},
   "outputs": [
    {
     "name": "stdout",
     "output_type": "stream",
     "text": [
      "('∀x ([R1](x) → ¬[R2](x))', '∃x ([R1](x) ∧ [R0](x))', '∃x ([R0](x) ∧ ¬[R2](x))')\n"
     ]
    },
    {
     "data": {
      "text/plain": [
       "'∃x ([R0](x) ∧ ¬[R2](x))'"
      ]
     },
     "execution_count": 50,
     "metadata": {},
     "output_type": "execute_result"
    }
   ],
   "source": [
    "syllo, _ = syllo_gen.get_syllo(1, True)\n",
    "print(syllo)\n",
    "syllo[-1]"
   ]
  },
  {
   "cell_type": "code",
   "execution_count": 304,
   "metadata": {},
   "outputs": [
    {
     "data": {
      "text/plain": [
       "('∀x ([R2](x) → [R1](x))',\n",
       " '∀x ([R1](x) → [R0](x))',\n",
       " '∃x ([R0](x) ∧ [R2](x))',\n",
       " '∀x ([R0](x) → [R3](x))',\n",
       " '∃x ([R3](x) ∧ [R2](x))')"
      ]
     },
     "execution_count": 304,
     "metadata": {},
     "output_type": "execute_result"
    }
   ],
   "source": [
    "all_possilbe = set()\n",
    "for i in range(3):\n",
    "    for j in range(200**(i+1)):\n",
    "        syllo, _ = syllo_gen.get_syllo(i+1, True)\n",
    "        all_possilbe.add(tuple(syllo))\n",
    "\n",
    "for i in [4,5]:\n",
    "    for j in range(200**3):\n",
    "        syllo, _ = syllo_gen.get_syllo(i, True)\n",
    "        all_possilbe.add(tuple(syllo))\n"
   ]
  },
  {
   "cell_type": "code",
   "execution_count": 299,
   "metadata": {},
   "outputs": [
    {
     "data": {
      "text/plain": [
       "['∀x ([R2](x) → ¬[R1](x))',\n",
       " '∀x ([R0](x) → [R1](x))',\n",
       " '∃x ([R0](x) ∧ ¬[R2](x))',\n",
       " '∀x ([R3](x) → [R2](x))',\n",
       " '∃x ([R0](x) ∧ ¬[R3](x))']"
      ]
     },
     "execution_count": 299,
     "metadata": {},
     "output_type": "execute_result"
    }
   ],
   "source": [
    "all_possilbe = list(all_possilbe)\n",
    "all_possilbe = [list(syllo) for syllo in all_possilbe]\n",
    "all_possilbe = sorted(all_possilbe, key=lambda x: len(x))"
   ]
  },
  {
   "cell_type": "code",
   "execution_count": 300,
   "metadata": {},
   "outputs": [
    {
     "data": {
      "text/plain": [
       "{'[R3]': '⊕', '[R0]': '∨', '[R1]': '⊕', '[R2]': '∨'}"
      ]
     },
     "execution_count": 300,
     "metadata": {},
     "output_type": "execute_result"
    }
   ],
   "source": [
    "syllo_gen.resolve_predicate(all_vars)"
   ]
  },
  {
   "cell_type": "code",
   "execution_count": null,
   "metadata": {},
   "outputs": [],
   "source": [
    "# TODO: Add grounded statements"
   ]
  }
 ],
 "metadata": {
  "kernelspec": {
   "display_name": "Python 3.10.4 ('wfsa')",
   "language": "python",
   "name": "python3"
  },
  "language_info": {
   "codemirror_mode": {
    "name": "ipython",
    "version": 3
   },
   "file_extension": ".py",
   "mimetype": "text/x-python",
   "name": "python",
   "nbconvert_exporter": "python",
   "pygments_lexer": "ipython3",
   "version": "3.10.4"
  },
  "orig_nbformat": 4,
  "vscode": {
   "interpreter": {
    "hash": "b346918d0b7bb6a3d33c853c0503828ab6aa9b445b216f9b49c79d37806d3d3f"
   }
  }
 },
 "nbformat": 4,
 "nbformat_minor": 2
}
