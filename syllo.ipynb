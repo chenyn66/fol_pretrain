{
 "cells": [
  {
   "cell_type": "code",
   "execution_count": null,
   "metadata": {},
   "outputs": [],
   "source": [
    "import sys\n",
    "sys.path.append('./src')\n",
    "import syllo_gen\n",
    "import random\n",
    "import json\n",
    "from tqdm.autonotebook import tqdm\n",
    "import openai\n",
    "openai.api_key = open('key.txt').read().strip()\n",
    "\n",
    "%load_ext autoreload\n",
    "%autoreload 2"
   ]
  },
  {
   "cell_type": "code",
   "execution_count": null,
   "metadata": {},
   "outputs": [],
   "source": [
    "# import gpt_comp\n",
    "# gpt_comp.test_composition(dmax=5, shuffle_story=False)"
   ]
  },
  {
   "cell_type": "markdown",
   "metadata": {},
   "source": [
    "# ADJ Template"
   ]
  },
  {
   "cell_type": "code",
   "execution_count": null,
   "metadata": {},
   "outputs": [],
   "source": [
    "q,v = syllo_gen.get_syllo(3)\n",
    "# q = syllo_gen.negate_quesion(q)\n",
    "v = syllo_gen.random_assign_adjs(v)\n",
    "print(syllo_gen.question2fol(q, v))\n",
    "print(syllo_gen.question2template(q, v, rand=True, noun=False))"
   ]
  },
  {
   "cell_type": "markdown",
   "metadata": {},
   "source": [
    "# NOUN Template"
   ]
  },
  {
   "cell_type": "code",
   "execution_count": null,
   "metadata": {},
   "outputs": [],
   "source": [
    "q,v = syllo_gen.get_syllo(1)\n",
    "# q = syllo_gen.negate_quesion(q)\n",
    "v = syllo_gen.random_assign_nouns(v)  # change to correct type\n",
    "print(syllo_gen.question2fol(q, v))\n",
    "print(syllo_gen.question2template(q, v, rand=True, noun=True)) # change to correct type\n"
   ]
  },
  {
   "cell_type": "code",
   "execution_count": null,
   "metadata": {},
   "outputs": [],
   "source": [
    "all_possilbe = set()\n",
    "# prompt = 'Answer questions about syllogisms, ignoring semantics.\\n\\n'\n",
    "prompt = 'Answer questions about syllogisms.\\n\\n'\n",
    "# prompt = ''\n",
    "rand = False\n",
    "noun = False\n",
    "for j in range(100):\n",
    "    if len(all_possilbe) == 24:\n",
    "        break\n",
    "    real = random.choice([True, False])\n",
    "    q, v = syllo_gen.get_syllo(1)\n",
    "\n",
    "    qs = syllo_gen.question_to_string(q)\n",
    "    if qs in all_possilbe:\n",
    "        continue\n",
    "    all_possilbe.add(qs)\n",
    "\n",
    "    if not real:\n",
    "        q = syllo_gen.negate_quesion(q)\n",
    "\n",
    "    # if random.random() < 0.5:\n",
    "    #     v = syllo_gen.assign_greek_letters(v)\n",
    "\n",
    "        \n",
    "    if noun:\n",
    "        v = syllo_gen.random_assign_nouns(v)\n",
    "    else:\n",
    "        v = syllo_gen.random_assign_adjs(v)\n",
    "\n",
    "    \n",
    "    q = syllo_gen.question2template(q, v, rand=rand, noun=noun)\n",
    "    # q = syllo_gen.question2fol(q, v)\n",
    "\n",
    "    prompt += f'Story: {\" \".join(q[\"story\"])} Question: {q[\"conclusion\"]}\\n'\n",
    "    prompt += f'Answer: {real}\\n\\n'\n",
    "\n",
    "# for j in range(100):\n",
    "#     if len(all_possilbe) == 30:\n",
    "#         break\n",
    "#     real = random.choice([True, False])\n",
    "#     q, v = syllo_gen.get_syllo(2)\n",
    "#     if not real:\n",
    "#         q = syllo_gen.negate_quesion(q)\n",
    "\n",
    "#     v = syllo_gen.random_assign_nouns(v)\n",
    "#     if tuple(q['story']) not in all_possilbe:\n",
    "#         all_possilbe.add((tuple(q['story'])))\n",
    "#         q = syllo_gen.question2template(q, v, rand=rand)\n",
    "#         prompt += f'Story: {\" \".join(q[\"story\"])} Question: {q[\"conclusion\"]}\\n'\n",
    "#         prompt += f'Answer: {real}\\n\\n'\n",
    "print(prompt)"
   ]
  },
  {
   "cell_type": "code",
   "execution_count": null,
   "metadata": {},
   "outputs": [],
   "source": [
    "corret = 0\n",
    "total= 1000\n",
    "evaled = 0\n",
    "all_possilbe = set()\n",
    "\n",
    "for i in tqdm(range(total)):\n",
    "\n",
    "    # if len(all_possilbe) == 48:\n",
    "    #     break\n",
    "\n",
    "    real = random.choice([True, False])\n",
    "    q, v = syllo_gen.get_syllo(1)\n",
    "    if not real:\n",
    "        q = syllo_gen.negate_quesion(q)\n",
    "\n",
    "    # qs = syllo_gen.question_to_string(q)\n",
    "    # if qs not in all_possilbe:\n",
    "    #     all_possilbe.add(qs)\n",
    "    # else:\n",
    "    #     continue\n",
    "\n",
    "    # if random.random() < 1:\n",
    "    #     v = syllo_gen.assign_greek_letters(v)\n",
    "\n",
    "    if noun:\n",
    "        v = syllo_gen.random_assign_nouns(v)\n",
    "    else:\n",
    "        v = syllo_gen.random_assign_adjs(v)\n",
    "\n",
    "    q = syllo_gen.question2template(q, v, rand=rand, noun=noun)\n",
    "    # q = syllo_gen.question2fol(q, v)\n",
    "\n",
    "    tmp_prompt = prompt + f'Story: {\" \".join(q[\"story\"])} Question: {q[\"conclusion\"]}'\n",
    "\n",
    "    tmp_prompt += \"\\nAnswer:\" \n",
    "\n",
    "    # print(tmp_prompt)\n",
    "    # break\n",
    "\n",
    "\n",
    "    response = openai.Completion.create(\n",
    "    model=\"text-davinci-003\",\n",
    "    prompt=tmp_prompt,\n",
    "    temperature=0,\n",
    "    max_tokens=10,\n",
    "    top_p=1,\n",
    "    frequency_penalty=0,\n",
    "    presence_penalty=0,\n",
    "    stop=[\"\\n\"]\n",
    "    )\n",
    "    text = response['choices'][0]['text'].strip()\n",
    "    if text not in ['True', 'False']:\n",
    "        print('Error')\n",
    "        print(text)\n",
    "        continue\n",
    "    if text == 'True' and real:\n",
    "        corret += 1\n",
    "    elif text == 'False' and not real:\n",
    "        corret += 1\n",
    "    else:\n",
    "        print(f'Story: {\" \".join(q[\"story\"])} Question: {q[\"conclusion\"]}')\n",
    "        print(text)\n",
    "\n",
    "\n",
    "print(corret/total)"
   ]
  }
 ],
 "metadata": {
  "kernelspec": {
   "display_name": "Python 3.10.4 ('wfsa')",
   "language": "python",
   "name": "python3"
  },
  "language_info": {
   "codemirror_mode": {
    "name": "ipython",
    "version": 3
   },
   "file_extension": ".py",
   "mimetype": "text/x-python",
   "name": "python",
   "nbconvert_exporter": "python",
   "pygments_lexer": "ipython3",
   "version": "3.10.4"
  },
  "orig_nbformat": 4,
  "vscode": {
   "interpreter": {
    "hash": "b346918d0b7bb6a3d33c853c0503828ab6aa9b445b216f9b49c79d37806d3d3f"
   }
  }
 },
 "nbformat": 4,
 "nbformat_minor": 2
}
