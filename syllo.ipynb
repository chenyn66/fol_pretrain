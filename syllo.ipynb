{
 "cells": [
  {
   "cell_type": "code",
   "execution_count": 207,
   "metadata": {},
   "outputs": [
    {
     "name": "stdout",
     "output_type": "stream",
     "text": [
      "The autoreload extension is already loaded. To reload it, use:\n",
      "  %reload_ext autoreload\n"
     ]
    },
    {
     "name": "stderr",
     "output_type": "stream",
     "text": [
      "C:\\Users\\cheny\\AppData\\Local\\Temp\\ipykernel_8676\\2018132128.py:6: TqdmExperimentalWarning: Using `tqdm.autonotebook.tqdm` in notebook mode. Use `tqdm.tqdm` instead to force console mode (e.g. in jupyter console)\n",
      "  from tqdm.autonotebook import tqdm\n"
     ]
    }
   ],
   "source": [
    "import sys\n",
    "sys.path.append('./src')\n",
    "import syllo_gen\n",
    "import random\n",
    "import json\n",
    "from tqdm.autonotebook import tqdm\n",
    "import openai\n",
    "openai.api_key = open('key.txt').read().strip()\n",
    "\n",
    "%load_ext autoreload\n",
    "%autoreload 2"
   ]
  },
  {
   "cell_type": "code",
   "execution_count": null,
   "metadata": {},
   "outputs": [],
   "source": [
    "# TODO: add existence \n",
    "# TODO: symmetry?\n",
    "# TODO: grammar-check\n",
    "# TODO: add adjective"
   ]
  },
  {
   "cell_type": "code",
   "execution_count": 193,
   "metadata": {},
   "outputs": [
    {
     "name": "stdout",
     "output_type": "stream",
     "text": [
      "{'story': ['[R1]a[R2]', '[R0]a[R1]'], 'conclusion': '[R0]o[R2]'}\n",
      "{'story': ['∀x ([R1](x) → [R2](x))', '∀x ([R0](x) → [R1](x))'], 'conclusion': '∃x ([R0](x) ∧ ¬[R2](x))'}\n",
      "{'story': ['All bottle of water is government.', 'All cookie is bottle of water.'], 'conclusion': 'Some cookie is not government.'}\n"
     ]
    }
   ],
   "source": [
    "q,v = syllo_gen.get_syllo(1)\n",
    "# q = syllo_gen.negate_quesion(q)\n",
    "v = syllo_gen.random_assign_nouns(v)\n",
    "print(q)\n",
    "print(syllo_gen.question2fol(q))\n",
    "print(syllo_gen.question2template(q, v, rand=False))"
   ]
  },
  {
   "cell_type": "code",
   "execution_count": null,
   "metadata": {},
   "outputs": [],
   "source": [
    "all_possilbe = set()\n",
    "prompt = ''\n",
    "for j in range(100):\n",
    "    if len(all_possilbe) == 24:\n",
    "        break\n",
    "    real = random.choice([True, False])\n",
    "    q, v = syllo_gen.get_syllo(1)\n",
    "    if not real:\n",
    "        q = syllo_gen.negate_quesion(q)\n",
    "\n",
    "    v = syllo_gen.random_assign_nouns(v)\n",
    "    if tuple(q['story']) not in all_possilbe:\n",
    "        all_possilbe.add((tuple(q['story'])))\n",
    "        q = syllo_gen.question2template(q, v, rand=False)\n",
    "        prompt += f'Story: {\" \".join(q[\"story\"])} Question: {q[\"conclusion\"]}\\n'\n",
    "        prompt += f'Answer: {real}\\n\\n'\n",
    "print(prompt)"
   ]
  },
  {
   "cell_type": "code",
   "execution_count": 234,
   "metadata": {},
   "outputs": [
    {
     "data": {
      "application/vnd.jupyter.widget-view+json": {
       "model_id": "be6def087f2344ddb816d4878d37c66f",
       "version_major": 2,
       "version_minor": 0
      },
      "text/plain": [
       "  0%|          | 0/100 [00:00<?, ?it/s]"
      ]
     },
     "metadata": {},
     "output_type": "display_data"
    },
    {
     "name": "stdout",
     "output_type": "stream",
     "text": [
      "Story: All C are not B. A subset of B is A. Question: There is no A that is not C.\n",
      "True\n",
      "Story: C is always B. If something is A, then it is not B. Question: There is no A that is not C.\n",
      "True\n",
      "Story: There exists some B that is C. All things that are B are also A. Question: A is not C.\n",
      "True\n",
      "Story: Every C is not B. There is no A that is not B. Question: At lease one A is not C.\n",
      "False\n",
      "Story: All C is B. If something is A, then it is not B. Question: There is no A that is not C.\n",
      "True\n",
      "Story: There are B that are also C. Every instance of B is also an instance of A. Question: A is never C.\n",
      "True\n",
      "Story: B is always C. A subset of A is B. Question: A is not C for all A.\n",
      "True\n",
      "Story: Every instance of B is also an instance of C. Everything that is A is also B. Question: Sometimes A is not C.\n",
      "True\n",
      "Story: There is no B that is not C. All A is B. Question: Sometimes A is not C.\n",
      "True\n",
      "Story: Every B is C. All things that are B are also A. Question: A is never C.\n",
      "True\n",
      "Story: All C are not B. There is no B that is not A. Question: There is no A that is not C.\n",
      "True\n",
      "Story: Every instance of B is also an instance of C. A subset of A is B. Question: A is not C for all A.\n",
      "True\n",
      "0.88\n"
     ]
    }
   ],
   "source": [
    "corret = 0\n",
    "total= 100\n",
    "for i in tqdm(range(total)):\n",
    "\n",
    "    real = random.choice([True, False])\n",
    "    q, v = syllo_gen.get_syllo(1)\n",
    "    if not real:\n",
    "        q = syllo_gen.negate_quesion(q)\n",
    "    # v = syllo_gen.random_assign_nouns(v)\n",
    "    q = syllo_gen.question2template(q, v, rand=True)\n",
    "    tmp_prompt = prompt + f'Story: {\" \".join(q[\"story\"])} Question: {q[\"conclusion\"]}'\n",
    "\n",
    "    tmp_prompt += \"\\nAnswer:\"\n",
    "\n",
    "\n",
    "\n",
    "    response = openai.Completion.create(\n",
    "    model=\"text-davinci-003\",\n",
    "    prompt=tmp_prompt,\n",
    "    temperature=0,\n",
    "    max_tokens=10,\n",
    "    top_p=1,\n",
    "    frequency_penalty=0,\n",
    "    presence_penalty=0,\n",
    "    stop=[\"\\n\"]\n",
    "    )\n",
    "    text = response['choices'][0]['text'].strip()\n",
    "    if text not in ['True', 'False']:\n",
    "        print(text)\n",
    "        continue\n",
    "    if text == 'True' and real:\n",
    "        corret += 1\n",
    "    elif text == 'False' and not real:\n",
    "        corret += 1\n",
    "    else:\n",
    "        print(f'Story: {\" \".join(q[\"story\"])} Question: {q[\"conclusion\"]}')\n",
    "        print(text)\n",
    "\n",
    "\n",
    "print(corret/total)"
   ]
  },
  {
   "cell_type": "code",
   "execution_count": null,
   "metadata": {},
   "outputs": [],
   "source": [
    "# TODO: Add grounded statements"
   ]
  }
 ],
 "metadata": {
  "kernelspec": {
   "display_name": "Python 3.10.4 ('wfsa')",
   "language": "python",
   "name": "python3"
  },
  "language_info": {
   "codemirror_mode": {
    "name": "ipython",
    "version": 3
   },
   "file_extension": ".py",
   "mimetype": "text/x-python",
   "name": "python",
   "nbconvert_exporter": "python",
   "pygments_lexer": "ipython3",
   "version": "3.10.4"
  },
  "orig_nbformat": 4,
  "vscode": {
   "interpreter": {
    "hash": "b346918d0b7bb6a3d33c853c0503828ab6aa9b445b216f9b49c79d37806d3d3f"
   }
  }
 },
 "nbformat": 4,
 "nbformat_minor": 2
}
