{
 "cells": [
  {
   "cell_type": "code",
   "execution_count": 3,
   "metadata": {},
   "outputs": [
    {
     "name": "stderr",
     "output_type": "stream",
     "text": [
      "/var/folders/b2/2pp0lc_n7s78sl3jfrdxggb80000gn/T/ipykernel_45511/2018132128.py:6: TqdmExperimentalWarning: Using `tqdm.autonotebook.tqdm` in notebook mode. Use `tqdm.tqdm` instead to force console mode (e.g. in jupyter console)\n",
      "  from tqdm.autonotebook import tqdm\n"
     ]
    }
   ],
   "source": [
    "import sys\n",
    "sys.path.append('./src')\n",
    "import syllo_gen\n",
    "import random\n",
    "import json\n",
    "from tqdm.autonotebook import tqdm\n",
    "import openai\n",
    "openai.api_key = open('key.txt').read().strip()\n",
    "\n",
    "%load_ext autoreload\n",
    "%autoreload 2"
   ]
  },
  {
   "cell_type": "markdown",
   "metadata": {},
   "source": [
    "# ADJ Template"
   ]
  },
  {
   "cell_type": "code",
   "execution_count": 7,
   "metadata": {},
   "outputs": [
    {
     "name": "stdout",
     "output_type": "stream",
     "text": [
      "{'story': ['∀x (shrewd(x) → ¬fluent(x))', '∃x (spirited(x) ∧ shrewd(x))', '∀x (charming(x) → fluent(x))', '∀x (mighty(x) → charming(x))'], 'conclusion': '∃x (spirited(x) ∧ ¬mighty(x))'}\n",
      "{'story': ['Shrewd people are not fluent.', 'Some spirited person is shrewd.', 'There does not exist a charming and not fluent person.', 'There is no mighty person who is not charming.'], 'conclusion': 'Not all spirited people are mighty.'}\n"
     ]
    }
   ],
   "source": [
    "q,v = syllo_gen.get_syllo(3)\n",
    "# q = syllo_gen.negate_quesion(q)\n",
    "v = syllo_gen.random_assign_adjs(v)\n",
    "print(syllo_gen.question2fol(q, v))\n",
    "print(syllo_gen.question2template(q, v, rand=True, noun=False))"
   ]
  },
  {
   "cell_type": "markdown",
   "metadata": {},
   "source": [
    "# NOUN Template"
   ]
  },
  {
   "cell_type": "code",
   "execution_count": 4,
   "metadata": {},
   "outputs": [
    {
     "name": "stdout",
     "output_type": "stream",
     "text": [
      "{'story': ['∀x (penalty(x) → ¬community(x))', '∀x (town(x) → community(x))'], 'conclusion': '∀x (town(x) → ¬penalty(x))'}\n",
      "{'story': ['Penalty is not community for all penalty.', 'All town is community.'], 'conclusion': 'If something is town, then it is not penalty.'}\n"
     ]
    }
   ],
   "source": [
    "q,v = syllo_gen.get_syllo(1)\n",
    "# q = syllo_gen.negate_quesion(q)\n",
    "v = syllo_gen.random_assign_nouns(v)  # change to correct type\n",
    "print(syllo_gen.question2fol(q, v))\n",
    "print(syllo_gen.question2template(q, v, rand=True, noun=True)) # change to correct type\n"
   ]
  },
  {
   "cell_type": "code",
   "execution_count": 21,
   "metadata": {},
   "outputs": [
    {
     "name": "stdout",
     "output_type": "stream",
     "text": [
      "Story: Everything that is garden is also grass. Style is always garden. Question: There is no style that is not grass.\n",
      "Answer: True\n",
      "\n",
      "Story: Not a single book is office. Every security is book. Question: If something is security, then it is not office.\n",
      "Answer: True\n",
      "\n",
      "Story: Everything that is tree is also voice. There esists some refrigerator that is not voice. Question: Everything that is refrigerator is also tree.\n",
      "Answer: False\n",
      "\n",
      "Story: If something is perception, then it is level. Perception is boss for some perception. Question: Some boss is level.\n",
      "Answer: True\n",
      "\n",
      "Story: There is no stone that is permission. All part is permission. Question: At lease one part is not stone.\n",
      "Answer: True\n",
      "\n",
      "Story: If something is piece, then it is guitar. Guitar is never boat. Question: There esists some boat that is not piece.\n",
      "Answer: True\n",
      "\n",
      "Story: Everything that is celebration is also basis. Information is not basis for all information. Question: Information is always celebration.\n",
      "Answer: False\n",
      "\n",
      "Story: There is no gate that is set of priorities. Some set of priorities is success. Question: There is no success that is not gate.\n",
      "Answer: False\n",
      "\n",
      "Story: Doctor is not candidate. Some protection is candidate. Question: All protection is doctor.\n",
      "Answer: False\n",
      "\n",
      "Story: If something is credit, then it is not snack. There are contract that are also credit. Question: At lease one contract is not snack.\n",
      "Answer: True\n",
      "\n",
      "Story: If something is type, then it is risk. There is no risk that is not maintenance. Question: No maintenance is type.\n",
      "Answer: False\n",
      "\n",
      "Story: All bag of flour is software. All bag of flour is quantity. Question: There exists some quantity that is software.\n",
      "Answer: True\n",
      "\n",
      "Story: Sometimes date is coffee. All date is sandwich. Question: Every sandwich is not coffee.\n",
      "Answer: False\n",
      "\n",
      "Story: Some salt is not doctor. There is no salt that is not relationship. Question: There are relationship that are not doctor.\n",
      "Answer: True\n",
      "\n",
      "Story: There is no user that is not development. There exists some door that is user. Question: All door are not development.\n",
      "Answer: False\n",
      "\n",
      "Story: There is no rate that is ratio. All rate is state. Question: All state is ratio.\n",
      "Answer: False\n",
      "\n",
      "Story: Picture is not goal for all picture. Picture is bread for some picture. Question: Not all bread is goal.\n",
      "Answer: True\n",
      "\n",
      "Story: If something is soda, then it is not committee. Every instance of committee is also an instance of exercise. Question: Sometimes exercise is not soda.\n",
      "Answer: True\n",
      "\n",
      "Story: There are boat that are also section. All section is law. Question: Sometimes law is boat.\n",
      "Answer: True\n",
      "\n",
      "\n"
     ]
    }
   ],
   "source": [
    "all_possilbe = set()\n",
    "prompt = ''\n",
    "rand = True\n",
    "for j in range(100):\n",
    "    if len(all_possilbe) == 24:\n",
    "        break\n",
    "    real = random.choice([True, False])\n",
    "    q, v = syllo_gen.get_syllo(1)\n",
    "    if not real:\n",
    "        q = syllo_gen.negate_quesion(q)\n",
    "\n",
    "    v = syllo_gen.random_assign_nouns(v)\n",
    "    if tuple(q['story']) not in all_possilbe:\n",
    "        all_possilbe.add((tuple(q['story'])))\n",
    "        q = syllo_gen.question2template(q, v, rand=rand)\n",
    "        prompt += f'Story: {\" \".join(q[\"story\"])} Question: {q[\"conclusion\"]}\\n'\n",
    "        prompt += f'Answer: {real}\\n\\n'\n",
    "\n",
    "# for j in range(100):\n",
    "#     if len(all_possilbe) == 30:\n",
    "#         break\n",
    "#     real = random.choice([True, False])\n",
    "#     q, v = syllo_gen.get_syllo(2)\n",
    "#     if not real:\n",
    "#         q = syllo_gen.negate_quesion(q)\n",
    "\n",
    "#     v = syllo_gen.random_assign_nouns(v)\n",
    "#     if tuple(q['story']) not in all_possilbe:\n",
    "#         all_possilbe.add((tuple(q['story'])))\n",
    "#         q = syllo_gen.question2template(q, v, rand=rand)\n",
    "#         prompt += f'Story: {\" \".join(q[\"story\"])} Question: {q[\"conclusion\"]}\\n'\n",
    "#         prompt += f'Answer: {real}\\n\\n'\n",
    "print(prompt)"
   ]
  },
  {
   "cell_type": "code",
   "execution_count": 23,
   "metadata": {},
   "outputs": [
    {
     "data": {
      "application/vnd.jupyter.widget-view+json": {
       "model_id": "0a6ed93e866b490cbcee53e028c42878",
       "version_major": 2,
       "version_minor": 0
      },
      "text/plain": [
       "  0%|          | 0/100 [00:00<?, ?it/s]"
      ]
     },
     "metadata": {},
     "output_type": "display_data"
    },
    {
     "name": "stdout",
     "output_type": "stream",
     "text": [
      "Story: Everything that is b is also c. There exists some b that is a. Question: A is not c for all a.\n",
      "True\n",
      "Story: Every b is c. Every instance of a is also an instance of b. Question: There esists some a that is not c.\n",
      "True\n",
      "Story: All c is b. All b is a. Question: A is c for some a.\n",
      "False\n",
      "Story: If something is c, then it is b. There is no b that is a. Question: There is no a that is not c.\n",
      "True\n",
      "Story: No b is c. Every a is b. Question: There is no a that is not c.\n",
      "True\n",
      "Story: B is c for some b. Everything that is b is also a. Question: A is c for some a.\n",
      "False\n",
      "Story: C is not b for all c. If something is a, then it is b. Question: A portion of a is also c.\n",
      "True\n",
      "0.93\n"
     ]
    }
   ],
   "source": [
    "corret = 0\n",
    "total= 100\n",
    "for i in tqdm(range(total)):\n",
    "\n",
    "    real = random.choice([True, False])\n",
    "    q, v = syllo_gen.get_syllo(1)\n",
    "    if not real:\n",
    "        q = syllo_gen.negate_quesion(q)\n",
    "    # v = syllo_gen.random_assign_nouns(v)\n",
    "    q = syllo_gen.question2template(q, v, rand=True)\n",
    "    tmp_prompt = prompt + f'Story: {\" \".join(q[\"story\"])} Question: {q[\"conclusion\"]}'\n",
    "\n",
    "    tmp_prompt += \"\\nAnswer:\"\n",
    "\n",
    "\n",
    "\n",
    "    response = openai.Completion.create(\n",
    "    model=\"text-davinci-003\",\n",
    "    prompt=tmp_prompt,\n",
    "    temperature=0,\n",
    "    max_tokens=10,\n",
    "    top_p=1,\n",
    "    frequency_penalty=0,\n",
    "    presence_penalty=0,\n",
    "    stop=[\"\\n\"]\n",
    "    )\n",
    "    text = response['choices'][0]['text'].strip()\n",
    "    if text not in ['True', 'False']:\n",
    "        print(text)\n",
    "        continue\n",
    "    if text == 'True' and real:\n",
    "        corret += 1\n",
    "    elif text == 'False' and not real:\n",
    "        corret += 1\n",
    "    else:\n",
    "        print(f'Story: {\" \".join(q[\"story\"])} Question: {q[\"conclusion\"]}')\n",
    "        print(text)\n",
    "\n",
    "\n",
    "print(corret/total)"
   ]
  },
  {
   "cell_type": "code",
   "execution_count": null,
   "metadata": {},
   "outputs": [],
   "source": [
    "# TODO: Add grounded statements"
   ]
  }
 ],
 "metadata": {
  "kernelspec": {
   "display_name": "Python 3.9.13 ('base')",
   "language": "python",
   "name": "python3"
  },
  "language_info": {
   "codemirror_mode": {
    "name": "ipython",
    "version": 3
   },
   "file_extension": ".py",
   "mimetype": "text/x-python",
   "name": "python",
   "nbconvert_exporter": "python",
   "pygments_lexer": "ipython3",
   "version": "3.9.13"
  },
  "orig_nbformat": 4,
  "vscode": {
   "interpreter": {
    "hash": "bd0cf88e87376f9c0c08cd9ef3a44ea814d9090c8d7f3652aa3697c6aafce6b9"
   }
  }
 },
 "nbformat": 4,
 "nbformat_minor": 2
}
