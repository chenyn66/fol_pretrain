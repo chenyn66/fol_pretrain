{
 "cells": [
  {
   "cell_type": "code",
   "execution_count": 1,
   "metadata": {},
   "outputs": [
    {
     "name": "stderr",
     "output_type": "stream",
     "text": [
      "C:\\Users\\cheny\\AppData\\Local\\Temp\\ipykernel_25688\\2018132128.py:6: TqdmExperimentalWarning: Using `tqdm.autonotebook.tqdm` in notebook mode. Use `tqdm.tqdm` instead to force console mode (e.g. in jupyter console)\n",
      "  from tqdm.autonotebook import tqdm\n"
     ]
    }
   ],
   "source": [
    "import sys\n",
    "sys.path.append('./src')\n",
    "import syllo_gen\n",
    "import random\n",
    "import json\n",
    "from tqdm.autonotebook import tqdm\n",
    "import openai\n",
    "openai.api_key = open('key.txt').read().strip()\n",
    "\n",
    "%load_ext autoreload\n",
    "%autoreload 2"
   ]
  },
  {
   "cell_type": "code",
   "execution_count": 3,
   "metadata": {},
   "outputs": [
    {
     "data": {
      "text/plain": [
       "66"
      ]
     },
     "execution_count": 3,
     "metadata": {},
     "output_type": "execute_result"
    }
   ],
   "source": [
    "sum([len(x) for x in syllo_gen.ADJ_TEMPLATE.values()])"
   ]
  },
  {
   "cell_type": "code",
   "execution_count": 15,
   "metadata": {},
   "outputs": [
    {
     "name": "stdout",
     "output_type": "stream",
     "text": [
      "∃x (B(x) ∧ C(x))\n",
      "∀x (B(x) → A(x))\n",
      "∀x (A(x) → ¬D(x))\n",
      "∃x (C(x) ∧ ¬D(x))\n",
      "\n",
      "Thrilling and intellectual person exists.\n",
      "Everyone who is thrilling is soulless.\n",
      "For all people, if he is soulless then he is not glamorous.\n",
      "Someone is intellectual and not glamorous.\n",
      "\n",
      "A subset of fire is owner.\n",
      "All fire is carton of milk.\n",
      "If something is carton of milk, then it is not reputation.\n",
      "Sometimes owner is not reputation.\n"
     ]
    }
   ],
   "source": [
    "q,v = syllo_gen.get_syllo(2)\n",
    "# q = syllo_gen.negate_quesion(q)\n",
    "question = syllo_gen.question2fol(q, v)\n",
    "for line in question['story'] + [question['conclusion']]:\n",
    "    print(line)\n",
    "print()\n",
    "v1 = syllo_gen.random_assign_adjs(v)\n",
    "\n",
    "question = syllo_gen.question2template(q, v1, rand=True, noun=False)\n",
    "for line in question['story'] + [question['conclusion']]:\n",
    "    print(line)\n",
    "print()\n",
    "v2 = syllo_gen.random_assign_nouns(v)\n",
    "\n",
    "question = syllo_gen.question2template(q, v2, rand=True, noun=True)\n",
    "for line in question['story'] + [question['conclusion']]:\n",
    "    print(line)\n"
   ]
  },
  {
   "cell_type": "markdown",
   "metadata": {},
   "source": [
    "# ADJ Template"
   ]
  },
  {
   "cell_type": "code",
   "execution_count": 4,
   "metadata": {},
   "outputs": [
    {
     "name": "stdout",
     "output_type": "stream",
     "text": [
      "{'story': ['∀x (celestial(x) → ¬apprehensive(x))', '∃x (celestial(x) ∧ inconsiderate(x))'], 'conclusion': '∃x (inconsiderate(x) ∧ ¬apprehensive(x))'}\n",
      "{'story': ['It is impossible for a celestial person to be apprehensive.', 'There is someone who is celestial and inconsiderate.'], 'conclusion': 'Some people are inconsiderate and not apprehensive.'}\n"
     ]
    }
   ],
   "source": [
    "q,v = syllo_gen.get_syllo(1)\n",
    "# q = syllo_gen.negate_quesion(q)\n",
    "v = syllo_gen.random_assign_adjs(v)\n",
    "print(syllo_gen.question2fol(q, v))\n",
    "print(syllo_gen.question2template(q, v, rand=True, noun=False))"
   ]
  },
  {
   "cell_type": "markdown",
   "metadata": {},
   "source": [
    "# NOUN Template"
   ]
  },
  {
   "cell_type": "code",
   "execution_count": 2,
   "metadata": {},
   "outputs": [
    {
     "name": "stdout",
     "output_type": "stream",
     "text": [
      "{'story': ['∀x (gene(x) → ¬line(x))', '∀x (choice(x) → gene(x))'], 'conclusion': '∃x (choice(x) ∧ ¬line(x))'}\n",
      "{'story': ['Gene is not line.', 'There is no choice that is not gene.'], 'conclusion': 'Not all choice is line.'}\n"
     ]
    }
   ],
   "source": [
    "q,v = syllo_gen.get_syllo(1)\n",
    "# q = syllo_gen.negate_quesion(q)\n",
    "v = syllo_gen.random_assign_nouns(v)  # change to correct type\n",
    "print(syllo_gen.question2fol(q, v))\n",
    "print(syllo_gen.question2template(q, v, rand=True, noun=True)) # change to correct type\n"
   ]
  },
  {
   "cell_type": "code",
   "execution_count": 16,
   "metadata": {},
   "outputs": [
    {
     "name": "stdout",
     "output_type": "stream",
     "text": [
      "Answer questions about syllogisms.\n",
      "\n",
      "Story: No wicked person is flashy. Some divine person is wicked. Question: Every divine person is flashy.\n",
      "Answer: False\n",
      "\n",
      "Story: No pleasant person is vulnerable. Every elfin person is vulnerable. Question: Some elfin person is not pleasant.\n",
      "Answer: True\n",
      "\n",
      "Story: Some drab person is squat. Every drab person is reclusive. Question: Some reclusive person is squat.\n",
      "Answer: True\n",
      "\n",
      "Story: Every faithful person is tough. No tough person is good. Question: Some good person is not faithful.\n",
      "Answer: True\n",
      "\n",
      "Story: No creepy person is indiscreet. Every self-confident person is creepy. Question: Some self-confident person is indiscreet.\n",
      "Answer: False\n",
      "\n",
      "Story: Every clever person is quick. Every chic person is clever. Question: Some chic person is quick.\n",
      "Answer: True\n",
      "\n",
      "Story: Every mellow person is attentive. Some mellow person is musical. Question: Some musical person is attentive.\n",
      "Answer: True\n",
      "\n",
      "Story: No self-disciplined person is inexperienced. Some inexperienced person is stately. Question: Some stately person is not self-disciplined.\n",
      "Answer: True\n",
      "\n",
      "Story: No independent person is jittery. Some mature person is jittery. Question: Every mature person is independent.\n",
      "Answer: False\n",
      "\n",
      "Story: Every independent person is surly. No childish person is surly. Question: No childish person is independent.\n",
      "Answer: True\n",
      "\n",
      "Story: No plump person is sedate. Every gloomy person is plump. Question: Every gloomy person is sedate.\n",
      "Answer: False\n",
      "\n",
      "Story: No ethereal person is pleasant. Every ethereal person is slight. Question: Some slight person is not pleasant.\n",
      "Answer: True\n",
      "\n",
      "Story: Some bleached person is jovial. Every jovial person is civilized. Question: No civilized person is bleached.\n",
      "Answer: False\n",
      "\n",
      "Story: Every tired person is one-sided. Some evasive person is not one-sided. Question: Some evasive person is not tired.\n",
      "Answer: True\n",
      "\n",
      "Story: No shaved person is saturnine. Every saturnine person is disruptive. Question: Some disruptive person is not shaved.\n",
      "Answer: True\n",
      "\n",
      "Story: No energetic person is sneering. Some energetic person is divine. Question: Some divine person is not sneering.\n",
      "Answer: True\n",
      "\n",
      "Story: No scholarly person is spirited. Every ambitious person is spirited. Question: Some ambitious person is scholarly.\n",
      "Answer: False\n",
      "\n",
      "Story: Every watchful person is brainy. Every brainy person is happy. Question: No happy person is watchful.\n",
      "Answer: False\n",
      "\n",
      "Story: Every willowy person is guarded. No guarded person is irresistible. Question: Some irresistible person is willowy.\n",
      "Answer: False\n",
      "\n",
      "Story: Every philosophical person is unassuming. Every philosophical person is curly. Question: No curly person is unassuming.\n",
      "Answer: False\n",
      "\n",
      "Story: Every beneficent person is petite. Some eclectic person is beneficent. Question: No eclectic person is petite.\n",
      "Answer: False\n",
      "\n",
      "Story: Every smart person is excited. Every slim person is smart. Question: Every slim person is excited.\n",
      "Answer: True\n",
      "\n",
      "Story: Some beautiful person is not renowned. Every beautiful person is flamboyant. Question: Every flamboyant person is renowned.\n",
      "Answer: False\n",
      "\n",
      "\n"
     ]
    }
   ],
   "source": [
    "all_possilbe = set()\n",
    "# prompt = 'Answer questions about syllogisms, ignoring semantics.\\n\\n'\n",
    "prompt = 'Answer questions about syllogisms.\\n\\n'\n",
    "# prompt = ''\n",
    "rand = False\n",
    "noun = False\n",
    "for j in range(100):\n",
    "    if len(all_possilbe) == 24:\n",
    "        break\n",
    "    real = random.choice([True, False])\n",
    "    q, v = syllo_gen.get_syllo(1)\n",
    "\n",
    "    qs = syllo_gen.question_to_string(q)\n",
    "    if qs in all_possilbe:\n",
    "        continue\n",
    "    all_possilbe.add(qs)\n",
    "\n",
    "    if not real:\n",
    "        q = syllo_gen.negate_quesion(q)\n",
    "\n",
    "    # if random.random() < 0.5:\n",
    "    #     v = syllo_gen.assign_greek_letters(v)\n",
    "\n",
    "        \n",
    "    if noun:\n",
    "        v = syllo_gen.random_assign_nouns(v)\n",
    "    else:\n",
    "        v = syllo_gen.random_assign_adjs(v)\n",
    "\n",
    "    \n",
    "    q = syllo_gen.question2template(q, v, rand=rand, noun=noun)\n",
    "    # q = syllo_gen.question2fol(q, v)\n",
    "\n",
    "    prompt += f'Story: {\" \".join(q[\"story\"])} Question: {q[\"conclusion\"]}\\n'\n",
    "    prompt += f'Answer: {real}\\n\\n'\n",
    "\n",
    "# for j in range(100):\n",
    "#     if len(all_possilbe) == 30:\n",
    "#         break\n",
    "#     real = random.choice([True, False])\n",
    "#     q, v = syllo_gen.get_syllo(2)\n",
    "#     if not real:\n",
    "#         q = syllo_gen.negate_quesion(q)\n",
    "\n",
    "#     v = syllo_gen.random_assign_nouns(v)\n",
    "#     if tuple(q['story']) not in all_possilbe:\n",
    "#         all_possilbe.add((tuple(q['story'])))\n",
    "#         q = syllo_gen.question2template(q, v, rand=rand)\n",
    "#         prompt += f'Story: {\" \".join(q[\"story\"])} Question: {q[\"conclusion\"]}\\n'\n",
    "#         prompt += f'Answer: {real}\\n\\n'\n",
    "print(prompt)"
   ]
  },
  {
   "cell_type": "code",
   "execution_count": null,
   "metadata": {},
   "outputs": [],
   "source": [
    "corret = 0\n",
    "total= 1000\n",
    "evaled = 0\n",
    "all_possilbe = set()\n",
    "\n",
    "for i in tqdm(range(total)):\n",
    "\n",
    "    # if len(all_possilbe) == 48:\n",
    "    #     break\n",
    "\n",
    "    real = random.choice([True, False])\n",
    "    q, v = syllo_gen.get_syllo(1)\n",
    "    if not real:\n",
    "        q = syllo_gen.negate_quesion(q)\n",
    "\n",
    "    # qs = syllo_gen.question_to_string(q)\n",
    "    # if qs not in all_possilbe:\n",
    "    #     all_possilbe.add(qs)\n",
    "    # else:\n",
    "    #     continue\n",
    "\n",
    "    # if random.random() < 1:\n",
    "    #     v = syllo_gen.assign_greek_letters(v)\n",
    "\n",
    "    if noun:\n",
    "        v = syllo_gen.random_assign_nouns(v)\n",
    "    else:\n",
    "        v = syllo_gen.random_assign_adjs(v)\n",
    "\n",
    "    q = syllo_gen.question2template(q, v, rand=rand, noun=noun)\n",
    "    # q = syllo_gen.question2fol(q, v)\n",
    "\n",
    "    tmp_prompt = prompt + f'Story: {\" \".join(q[\"story\"])} Question: {q[\"conclusion\"]}'\n",
    "\n",
    "    tmp_prompt += \"\\nAnswer:\" \n",
    "\n",
    "    # print(tmp_prompt)\n",
    "    # break\n",
    "\n",
    "\n",
    "    response = openai.Completion.create(\n",
    "    model=\"text-davinci-003\",\n",
    "    prompt=tmp_prompt,\n",
    "    temperature=0,\n",
    "    max_tokens=10,\n",
    "    top_p=1,\n",
    "    frequency_penalty=0,\n",
    "    presence_penalty=0,\n",
    "    stop=[\"\\n\"]\n",
    "    )\n",
    "    text = response['choices'][0]['text'].strip()\n",
    "    if text not in ['True', 'False']:\n",
    "        print('Error')\n",
    "        print(text)\n",
    "        continue\n",
    "    if text == 'True' and real:\n",
    "        corret += 1\n",
    "    elif text == 'False' and not real:\n",
    "        corret += 1\n",
    "    else:\n",
    "        print(f'Story: {\" \".join(q[\"story\"])} Question: {q[\"conclusion\"]}')\n",
    "        print(text)\n",
    "\n",
    "\n",
    "print(corret/total)"
   ]
  }
 ],
 "metadata": {
  "kernelspec": {
   "display_name": "Python 3.10.4 ('wfsa')",
   "language": "python",
   "name": "python3"
  },
  "language_info": {
   "codemirror_mode": {
    "name": "ipython",
    "version": 3
   },
   "file_extension": ".py",
   "mimetype": "text/x-python",
   "name": "python",
   "nbconvert_exporter": "python",
   "pygments_lexer": "ipython3",
   "version": "3.10.4"
  },
  "orig_nbformat": 4,
  "vscode": {
   "interpreter": {
    "hash": "b346918d0b7bb6a3d33c853c0503828ab6aa9b445b216f9b49c79d37806d3d3f"
   }
  }
 },
 "nbformat": 4,
 "nbformat_minor": 2
}
